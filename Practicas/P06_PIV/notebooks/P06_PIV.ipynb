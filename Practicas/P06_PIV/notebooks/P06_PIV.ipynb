{
 "cells": [
  {
   "cell_type": "markdown",
   "id": "208b55d8",
   "metadata": {},
   "source": [
    "# P06_PIV: Análisis PIV con Flujo Óptico de Farnebäck\n",
    "\n",
    "Este notebook implementa un pipeline completo de análisis PIV (Velocimetría de Partículas por Imagen) usando flujo óptico denso (algoritmo de Farnebäck) para estimar campos de velocidad a partir de pares de imágenes. \n",
    "\n",
    "**Basado en el script `piv_utils.py`.**\n",
    "\n",
    "Incluye:\n",
    "- Explicación teórica de PIV y flujo óptico\n",
    "- Descripción de la estructura de carpetas y archivos\n",
    "- Implementación modular de utilidades y visualizaciones\n",
    "- Procesamiento automático de todos los pares de imágenes\n",
    "- Exportación de resultados y generación de reportes\n",
    "\n",
    "---\n",
    "\n",
    "## Índice\n",
    "1. [Importar librerías y comprobar versiones](#section1)\n",
    "2. [Configurar rutas de proyecto y creación de carpetas](#section2)\n",
    "3. [Definir parámetros de Farnebäck y visualización](#section3)\n",
    "4. [Utilidades: descubrir y cargar pares PIV](#section4)\n",
    "5. [Flujo óptico denso (Farnebäck): implementación](#section5)\n",
    "6. [Métricas de flujo: u, v, magnitud y vorticidad](#section6)\n",
    "7. [Mallas para visualización (quiver/streamplot)](#section7)\n",
    "8. [Visualización: campo de vectores (quiver)](#section8)\n",
    "9. [Visualización: mapas de calor de magnitud y vorticidad](#section9)\n",
    "10. [Visualización: líneas de corriente (streamplot)](#section10)\n",
    "11. [Análisis: puntos extremos (máx/mín) y marcadores](#section11)\n",
    "12. [Persistencia: exportar campos a CSV](#section12)\n",
    "13. [Análisis: histogramas de magnitud y vorticidad](#section13)\n",
    "14. [Reporte: generar Markdown con enlaces a figuras](#section14)\n",
    "15. [Pipeline completo: procesar todos los pares encontrados](#section15)\n",
    "16. [Verificación rápida: listar archivos generados](#section16)\n",
    "\n",
    "---"
   ]
  },
  {
   "cell_type": "markdown",
   "id": "76683004",
   "metadata": {},
   "source": [
    "## 1. Importar librerías y comprobar versiones\n",
    "\n",
    "En esta sección se importan las librerías necesarias para el análisis PIV y se verifica la versión de OpenCV y NumPy. Se configura el estilo de matplotlib para visualizaciones consistentes.\n",
    "\n",
    "**Librerías principales:**\n",
    "- `cv2` (OpenCV): procesamiento de imágenes y cálculo de flujo óptico\n",
    "- `numpy`: operaciones numéricas y de arrays\n",
    "- `matplotlib.pyplot`, `matplotlib.cm`, `matplotlib.colors`: visualización\n",
    "- `pandas`: exportación de datos a CSV\n",
    "- `pathlib.Path`, `glob`: manejo de rutas y búsqueda de archivos\n"
   ]
  },
  {
   "cell_type": "code",
   "execution_count": 1,
   "id": "bda3e542",
   "metadata": {},
   "outputs": [
    {
     "name": "stdout",
     "output_type": "stream",
     "text": [
      "OpenCV version: 4.12.0\n",
      "NumPy version: 2.2.6\n"
     ]
    }
   ],
   "source": [
    "# Importar librerías principales\n",
    "import cv2\n",
    "import numpy as np\n",
    "import matplotlib.pyplot as plt\n",
    "from matplotlib import cm, colors\n",
    "import pandas as pd\n",
    "from pathlib import Path\n",
    "import glob\n",
    "\n",
    "# Configurar estilo de matplotlib\n",
    "plt.style.use('seaborn-v0_8-darkgrid')\n",
    "\n",
    "# Comprobar versiones\n",
    "print(f\"OpenCV version: {cv2.__version__}\")\n",
    "print(f\"NumPy version: {np.__version__}\")"
   ]
  },
  {
   "cell_type": "markdown",
   "id": "5dbfd03d",
   "metadata": {},
   "source": [
    "## 2. Configurar rutas de proyecto y creación de carpetas\n",
    "\n",
    "Se definen las rutas principales del proyecto usando `Path.cwd()` como referencia. Se crean los directorios de salida si no existen y se valida la existencia de imágenes de entrada en `files/p6/`.\n",
    "\n",
    "**Estructura esperada:**\n",
    "- `P06_PIV/` (este notebook)\n",
    "- `data/` (resultados CSV)\n",
    "- `data/images/` (figuras generadas)\n",
    "- `../../files/p6/` (imágenes de entrada *_0.*, *_1.*)\n"
   ]
  },
  {
   "cell_type": "code",
   "execution_count": null,
   "id": "4e7af14f",
   "metadata": {},
   "outputs": [
    {
     "name": "stdout",
     "output_type": "stream",
     "text": [
      "Imágenes *_0.* encontradas: 0\n",
      "Imágenes *_1.* encontradas: 0\n",
      "Advertencia: No se encontraron suficientes pares de imágenes en files/p6/.\n"
     ]
    }
   ],
   "source": [
    "# Definir rutas principales del proyecto\n",
    "NOTEBOOK_DIR = Path.cwd()\n",
    "# Si el notebook está dentro de la carpeta 'notebooks', subimos un nivel al proyecto P06_PIV\n",
    "PROYECT_DIR = NOTEBOOK_DIR.parent if NOTEBOOK_DIR.name.lower() == 'notebooks' else NOTEBOOK_DIR\n",
    "DATA_DIR = PROYECT_DIR / 'data'\n",
    "OUTPUT_DIR = DATA_DIR / 'images'\n",
    "AERO_MESSURE_DIR = PROYECT_DIR.parent.parent\n",
    "P6_FILES_DIR = AERO_MESSURE_DIR / 'files' / 'p6'\n",
    "\n",
    "# Crear carpetas de salida si no existen\n",
    "DATA_DIR.mkdir(parents=True, exist_ok=True)\n",
    "OUTPUT_DIR.mkdir(parents=True, exist_ok=True)\n",
    "\n",
    "# Validar existencia de imágenes de entrada\n",
    "archivos_0 = list(P6_FILES_DIR.glob('*_0.*'))\n",
    "archivos_1 = list(P6_FILES_DIR.glob('*_1.*'))\n",
    "print(f\"Imágenes *_0.* encontradas: {len(archivos_0)}\")\n",
    "print(f\"Imágenes *_1.* encontradas: {len(archivos_1)}\")\n",
    "if not archivos_0 or not archivos_1:\n",
    "    print(\"Advertencia: No se encontraron suficientes pares de imágenes en files/p6/.\")"
   ]
  },
  {
   "cell_type": "markdown",
   "id": "717425ff",
   "metadata": {},
   "source": [
    "## 3. Definir parámetros de Farnebäck y visualización\n",
    "\n",
    "El algoritmo de Farnebäck para flujo óptico denso tiene varios parámetros clave:\n",
    "- `pyr_scale`: escala de la pirámide de imágenes\n",
    "- `levels`: número de niveles de la pirámide\n",
    "- `winsize`: tamaño de la ventana de promedio\n",
    "- `iterations`: iteraciones por nivel\n",
    "- `poly_n`: tamaño del vecindario polinomial\n",
    "- `poly_sigma`: sigma de la gaussiana para suavizado\n",
    "\n",
    "También se define el parámetro `skip` para submuestreo en visualizaciones tipo quiver.\n"
   ]
  },
  {
   "cell_type": "code",
   "execution_count": 3,
   "id": "7003c41a",
   "metadata": {},
   "outputs": [
    {
     "name": "stdout",
     "output_type": "stream",
     "text": [
      "Parámetros de Farnebäck: {'pyr_scale': 0.5, 'levels': 3, 'winsize': 15, 'iterations': 3, 'poly_n': 5, 'poly_sigma': 1.2}\n",
      "skip (submuestreo quiver): 10\n"
     ]
    }
   ],
   "source": [
    "# Parámetros de Farnebäck y visualización\n",
    "skip = 10  # Submuestreo para quiver\n",
    "params_farneback = {\n",
    "    'pyr_scale': 0.5,   # Escala de la pirámide (<1)\n",
    "    'levels': 3,        # Niveles de la pirámide\n",
    "    'winsize': 15,      # Tamaño de ventana\n",
    "    'iterations': 3,    # Iteraciones por nivel\n",
    "    'poly_n': 5,        # Vecindario polinomial\n",
    "    'poly_sigma': 1.2   # Sigma de suavizado\n",
    "}\n",
    "print(\"Parámetros de Farnebäck:\", params_farneback)\n",
    "print(f\"skip (submuestreo quiver): {skip}\")"
   ]
  },
  {
   "cell_type": "markdown",
   "id": "60b97726",
   "metadata": {},
   "source": [
    "## 4. Utilidades: descubrir y cargar pares PIV\n",
    "\n",
    "Para procesar automáticamente todos los pares de imágenes, se implementan dos funciones:\n",
    "- `encontrar_pares_piv(p6_files_dir)`: detecta todos los basenames que tienen ambos archivos *_0.* y *_1.*\n",
    "- `cargar_par_imagenes(basename, p6_files_dir)`: carga el par de imágenes en escala de grises y retorna (img1, img2, basename)\n"
   ]
  },
  {
   "cell_type": "code",
   "execution_count": 4,
   "id": "7b21e5c0",
   "metadata": {},
   "outputs": [],
   "source": [
    "def encontrar_pares_piv(p6_files_dir: Path):\n",
    "    \"\"\"\n",
    "    Escanea el directorio de entrada y encuentra todos los pares PIV\n",
    "    (basename_0, basename_1).\n",
    "    Devuelve una lista de 'basenames' válidos (ej. ['B005', 'vortex_street']).\n",
    "    \"\"\"\n",
    "    pares_encontrados = []\n",
    "    archivos_0 = list(p6_files_dir.glob('*_0.*'))\n",
    "    for path_0 in archivos_0:\n",
    "        basename = path_0.stem.rsplit('_0', 1)[0]\n",
    "        path_1_glob = list(p6_files_dir.glob(f'{basename}_1.*'))\n",
    "        if path_1_glob:\n",
    "            pares_encontrados.append(basename)\n",
    "    return pares_encontrados\n",
    "\n",
    "def cargar_par_imagenes(basename: str, p6_files_dir: Path):\n",
    "    \"\"\"\n",
    "    Carga un par de imágenes (_0 y _1) desde el directorio de archivos P6.\n",
    "    \"\"\"\n",
    "    img_a_path = list(p6_files_dir.glob(f'{basename}_0.*'))\n",
    "    img_b_path = list(p6_files_dir.glob(f'{basename}_1.*'))\n",
    "    if not img_a_path or not img_b_path:\n",
    "        print(f\"Error: No se encontraron imágenes para el basename '{basename}'\")\n",
    "        return None, None, None\n",
    "    img1 = cv2.imread(str(img_a_path[0]), cv2.IMREAD_GRAYSCALE)\n",
    "    img2 = cv2.imread(str(img_b_path[0]), cv2.IMREAD_GRAYSCALE)\n",
    "    return img1, img2, basename"
   ]
  },
  {
   "cell_type": "markdown",
   "id": "d26bcca0",
   "metadata": {},
   "source": [
    "## 5. Flujo óptico denso (Farnebäck): implementación\n",
    "\n",
    "El flujo óptico estima el desplazamiento de píxeles entre dos imágenes consecutivas bajo el principio de conservación de brillo:\n",
    "\n",
    "$$\n",
    "I(x, y, t) \\approx I(x+u, y+v, t+\\Delta t)\n",
    "$$\n",
    "\n",
    "Lo que lleva a la ecuación diferencial:\n",
    "\n",
    "$$\n",
    "I_x u + I_y v + I_t = 0\n",
    "$$\n",
    "\n",
    "El método de Farnebäck aproxima localmente la imagen con un polinomio cuadrático y estima desplazamientos coherentes entre niveles de una pirámide gaussiana.\n",
    "\n",
    "Se utiliza la función `cv2.calcOpticalFlowFarneback` con el flag `OPTFLOW_FARNEBACK_GAUSSIAN` para mayor robustez al ruido."
   ]
  },
  {
   "cell_type": "code",
   "execution_count": 5,
   "id": "b2e625c7",
   "metadata": {},
   "outputs": [],
   "source": [
    "def calcular_flujo_optico(img1, img2, pyr_scale, levels, winsize, iterations, poly_n, poly_sigma):\n",
    "    \"\"\"\n",
    "    Calcula el flujo óptico denso usando el algoritmo de Farnebäck.\n",
    "    Retorna un array (h, w, 2) con los desplazamientos (u, v) por píxel.\n",
    "    \"\"\"\n",
    "    flow = cv2.calcOpticalFlowFarneback(\n",
    "        img1, img2, None,\n",
    "        pyr_scale, levels, winsize,\n",
    "        iterations, poly_n, poly_sigma,\n",
    "        flags=cv2.OPTFLOW_FARNEBACK_GAUSSIAN\n",
    "    )\n",
    "    return flow"
   ]
  },
  {
   "cell_type": "markdown",
   "id": "ddcc2d0a",
   "metadata": {},
   "source": [
    "## 6. Métricas de flujo: u, v, magnitud y vorticidad\n",
    "\n",
    "A partir del flujo óptico se extraen:\n",
    "- $u$ y $v$: componentes horizontal y vertical del desplazamiento\n",
    "- Magnitud de velocidad: $|\\mathbf{V}| = \\sqrt{u^2 + v^2}$\n",
    "- Vorticidad: $\\omega_z = \\frac{\\partial v}{\\partial x} - \\frac{\\partial u}{\\partial y}$\n",
    "\n",
    "Se usan derivadas numéricas con `numpy.gradient`."
   ]
  },
  {
   "cell_type": "code",
   "execution_count": 6,
   "id": "ba79709a",
   "metadata": {},
   "outputs": [],
   "source": [
    "def calcular_metricas_flujo(flow):\n",
    "    \"\"\"\n",
    "    Calcula u, v, magnitud de velocidad y vorticidad a partir del flujo óptico.\n",
    "    \"\"\"\n",
    "    u = flow[..., 0]\n",
    "    v = flow[..., 1]\n",
    "    magnitude = np.sqrt(u**2 + v**2)\n",
    "    grad_v = np.gradient(v)  # (dv/dy, dv/dx)\n",
    "    grad_u = np.gradient(u)  # (du/dy, du/dx)\n",
    "    dv_dx = grad_v[1]\n",
    "    du_dy = grad_u[0]\n",
    "    vorticity = dv_dx - du_dy\n",
    "    return u, v, magnitude, vorticity"
   ]
  },
  {
   "cell_type": "markdown",
   "id": "dcd8c360",
   "metadata": {},
   "source": [
    "## 7. Mallas para visualización (quiver/streamplot)\n",
    "\n",
    "Para graficar campos vectoriales y líneas de corriente, se generan mallas completas y submuestreadas usando `np.mgrid`.\n",
    "- (x, y): malla completa\n",
    "- (x_q, y_q): malla submuestreada para quiver\n"
   ]
  },
  {
   "cell_type": "code",
   "execution_count": 7,
   "id": "f1fa941d",
   "metadata": {},
   "outputs": [],
   "source": [
    "def preparar_visualizacion(shape, skip):\n",
    "    \"\"\"\n",
    "    Prepara las mallas (grids) X, Y para visualización.\n",
    "    Devuelve x, y (completos) y (x_q, y_q) submuestreados.\n",
    "    \"\"\"\n",
    "    h, w = shape\n",
    "    y, x = np.mgrid[0:h, 0:w]\n",
    "    y_q, x_q = np.mgrid[skip//2:h:skip, skip//2:w:skip]\n",
    "    return x, y, (x_q, y_q)"
   ]
  },
  {
   "cell_type": "markdown",
   "id": "93e77515",
   "metadata": {},
   "source": [
    "## 8. Visualización: campo de vectores (quiver)\n",
    "\n",
    "Se grafica el campo de vectores de velocidad sobre la imagen base usando `plt.quiver`, submuestreando según `skip` para mayor claridad. Se superpone la imagen en escala de grises y se ajusta el aspecto."
   ]
  },
  {
   "cell_type": "code",
   "execution_count": 8,
   "id": "dccb1846",
   "metadata": {},
   "outputs": [],
   "source": [
    "def visualizar_vectores(x_q, y_q, u, v, skip, img, base_name, output_dir):\n",
    "    \"\"\"\n",
    "    Visualiza el campo de vectores (quiver plot) sobre la imagen base.\n",
    "    Guarda la figura en PNG y SVG y la muestra inline.\n",
    "    \"\"\"\n",
    "    fig, ax = plt.subplots(figsize=(10, 8))\n",
    "    u_q = u[skip//2:img.shape[0]:skip, skip//2:img.shape[1]:skip]\n",
    "    v_q = v[skip//2:img.shape[0]:skip, skip//2:img.shape[1]:skip]\n",
    "    ax.imshow(img, cmap='gray', alpha=0.6)\n",
    "    ax.quiver(x_q, y_q, u_q, v_q, color='blue',\n",
    "              scale=None, scale_units='xy', angles='xy', units='xy',\n",
    "              width=0.1, headwidth=3, headlength=4, alpha=0.8)\n",
    "    ax.set_title(f'Campo de Vectores (Quiver) - {base_name}')\n",
    "    ax.set_xlabel('Posición X (píxeles)')\n",
    "    ax.set_ylabel('Posición Y (píxeles)')\n",
    "    ax.set_aspect('equal')\n",
    "    plt.gca().invert_yaxis()\n",
    "    # Guardar y mostrar con la utilidad común\n",
    "    _guardar_figura(fig, base_name, \"vectores\", output_dir, show=True)"
   ]
  },
  {
   "cell_type": "markdown",
   "id": "56392594",
   "metadata": {},
   "source": [
    "## Utilidad: guardar figuras en PNG y SVG\n",
    "\n",
    "Para consistencia, usamos una pequeña utilidad para guardar cada figura en ambos formatos."
   ]
  },
  {
   "cell_type": "code",
   "execution_count": 9,
   "id": "bf579954",
   "metadata": {},
   "outputs": [],
   "source": [
    "from typing import Optional\n",
    "\n",
    "def _guardar_figura(fig, base_name: str, tag: str, output_dir: Path, show: bool = True):\n",
    "    \"\"\"Guardar una figura con nombre base y etiqueta en PNG y SVG y mostrarla inline si show=True.\"\"\"\n",
    "    output_dir.mkdir(parents=True, exist_ok=True)\n",
    "    filename_png = output_dir / f\"{base_name}_{tag}.png\"\n",
    "    filename_svg = output_dir / f\"{base_name}_{tag}.svg\"\n",
    "    fig.savefig(filename_png, dpi=150, bbox_inches='tight')\n",
    "    fig.savefig(filename_svg, bbox_inches='tight')\n",
    "    if show:\n",
    "        plt.show()\n",
    "    plt.close(fig)"
   ]
  },
  {
   "cell_type": "markdown",
   "id": "c989d202",
   "metadata": {},
   "source": [
    "## 9. Visualización: mapas de calor de magnitud y vorticidad\n",
    "\n",
    "- Para magnitud: se usa escala de color `jet` con rango [min, max].\n",
    "- Para vorticidad: conviene normalización simétrica en torno a 0 y un colormap bipolar (`seismic`).\n",
    "- Los mapas usan `extent` para mostrar coordenadas de pixel (x, y) y `origin='lower'` para coherencia con `streamplot`."
   ]
  },
  {
   "cell_type": "code",
   "execution_count": 10,
   "id": "a78e47d7",
   "metadata": {},
   "outputs": [],
   "source": [
    "def visualizar_mapa_calor(data, x, y, title, cmap, tag, base_name, output_dir, points_to_mark=None):\n",
    "    \"\"\"Visualiza un mapa de calor (imshow) para una métrica (magnitud, vorticidad).\"\"\"\n",
    "    fig, ax = plt.subplots(figsize=(10, 8))\n",
    "    if 'vorticidad' in tag.lower():\n",
    "        vmax = np.nanmax(np.abs(data))\n",
    "        vmin = -vmax\n",
    "        norm = colors.Normalize(vmin=vmin, vmax=vmax)\n",
    "    else:\n",
    "        vmin = np.nanmin(data)\n",
    "        vmax = np.nanmax(data)\n",
    "        norm = colors.Normalize(vmin=vmin, vmax=vmax)\n",
    "    im = ax.imshow(\n",
    "        data, cmap=cmap,\n",
    "        extent=(x.min(), x.max(), y.min(), y.max()),\n",
    "        origin='lower', norm=norm, interpolation='bilinear'\n",
    "    )\n",
    "    cbar = fig.colorbar(im, ax=ax, shrink=0.8)\n",
    "    cbar.set_label(title)\n",
    "    if points_to_mark:\n",
    "        for (y_idx, x_idx), marker, label in points_to_mark:\n",
    "            ax.plot(x_idx, y_idx, marker, markersize=10, label=label, markeredgecolor='black')\n",
    "        ax.legend(loc='upper right', bbox_to_anchor=(1.2, 1))\n",
    "    ax.set_title(f'{title} - {base_name}')\n",
    "    ax.set_xlabel('Posición X (píxeles)')\n",
    "    ax.set_ylabel('Posición Y (píxeles)')\n",
    "    ax.set_aspect('equal')\n",
    "    _guardar_figura(fig, base_name, tag, output_dir)\n",
    "    plt.close(fig)\n"
   ]
  },
  {
   "cell_type": "markdown",
   "id": "d2c54681",
   "metadata": {},
   "source": [
    "## 10. Visualización: líneas de corriente (streamplot)\n",
    "\n",
    "Las líneas de corriente se dibujan con `ax.streamplot(x, y, u, v)`. Se colorean por magnitud y se superponen sobre la imagen base para contexto visual."
   ]
  },
  {
   "cell_type": "code",
   "execution_count": 11,
   "id": "a73b59c7",
   "metadata": {},
   "outputs": [],
   "source": [
    "def visualizar_streamlines(x, y, u, v, img, base_name, output_dir):\n",
    "    \"\"\"Visualiza líneas de corriente (streamplot).\"\"\"\n",
    "    fig, ax = plt.subplots(figsize=(10, 8))\n",
    "    magnitude = np.sqrt(u**2 + v**2)\n",
    "    ax.imshow(img, cmap='gray', alpha=0.4, extent=(x.min(), x.max(), y.min(), y.max()), origin='lower')\n",
    "    strm = ax.streamplot(x, y, u, v, color=magnitude, cmap=cm.jet, linewidth=1.5, density=1.5, arrowstyle='->')\n",
    "    cbar = fig.colorbar(strm.lines, ax=ax, shrink=0.8)\n",
    "    cbar.set_label('Magnitud de Velocidad')\n",
    "    ax.set_title(f'Líneas de Corriente (Streamlines) - {base_name}')\n",
    "    ax.set_xlabel('Posición X (píxeles)')\n",
    "    ax.set_ylabel('Posición Y (píxeles)')\n",
    "    ax.set_aspect('equal')\n",
    "    _guardar_figura(fig, base_name, \"streamlines\", output_dir)\n",
    "    plt.close(fig)\n"
   ]
  },
  {
   "cell_type": "markdown",
   "id": "4f06e223",
   "metadata": {},
   "source": [
    "## 11. Análisis: puntos extremos (máx/mín) y marcadores\n",
    "\n",
    "Se localizan los índices de máximos y mínimos de magnitud y vorticidad para utilizarlos como anotaciones en las figuras."
   ]
  },
  {
   "cell_type": "code",
   "execution_count": 12,
   "id": "619ddd48",
   "metadata": {},
   "outputs": [],
   "source": [
    "def analizar_puntos_extremos(magnitude, vorticity):\n",
    "    \"\"\"Encuentra y reporta los puntos de máx/mín magnitud y vorticidad.\"\"\"\n",
    "    max_mag_idx = np.unravel_index(np.argmax(magnitude), magnitude.shape)\n",
    "    min_mag_idx = np.unravel_index(np.argmin(magnitude), magnitude.shape)\n",
    "    max_vort_idx = np.unravel_index(np.argmax(vorticity), vorticity.shape)\n",
    "    min_vort_idx = np.unravel_index(np.argmin(vorticity), vorticity.shape)\n",
    "    print(f\"Velocidad Máxima: {magnitude[max_mag_idx]:.3f} en (y={max_mag_idx[0]}, x={max_mag_idx[1]})\")\n",
    "    print(f\"Vorticidad Máxima (+): {vorticity[max_vort_idx]:.3f} en (y={max_vort_idx[0]}, x={max_vort_idx[1]})\")\n",
    "    print(f\"Vorticidad Mínima (-): {vorticity[min_vort_idx]:.3f} en (y={min_vort_idx[0]}, x={min_vort_idx[1]})\")\n",
    "    return {\n",
    "        \"max_mag\": (max_mag_idx, 'w*', 'V máx'), \n",
    "        \"min_mag\": (min_mag_idx, 'wx', 'V mín'),\n",
    "        \"max_vort\": (max_vort_idx, 'c+', 'Vort máx (+)'),\n",
    "        \"min_vort\": (min_vort_idx, 'cx', 'Vort mín (-)')\n",
    "    }\n"
   ]
  },
  {
   "cell_type": "markdown",
   "id": "f52c8d93",
   "metadata": {},
   "source": [
    "## 12. Persistencia: exportar campos a CSV\n",
    "\n",
    "Se exportan los campos 2D (x, y, u, v, magnitud, vorticidad) a un archivo CSV por cada par procesado."
   ]
  },
  {
   "cell_type": "code",
   "execution_count": 13,
   "id": "ada7aae7",
   "metadata": {},
   "outputs": [],
   "source": [
    "def guardar_datos_csv(u, v, magnitude, vorticity, base_name, data_dir: Path):\n",
    "    \"\"\"Guarda los campos 2D (u, v, magnitud, vorticidad) en un archivo CSV.\"\"\"\n",
    "    h, w = u.shape\n",
    "    y_grid, x_grid = np.mgrid[0:h, 0:w]\n",
    "    df = pd.DataFrame({\n",
    "        'x': x_grid.flatten(),\n",
    "        'y': y_grid.flatten(),\n",
    "        'u': u.flatten(),\n",
    "        'v': v.flatten(),\n",
    "        'magnitud': magnitude.flatten(),\n",
    "        'vorticidad': vorticity.flatten()\n",
    "    })\n",
    "    csv_path = data_dir / f\"{base_name}_datos_piv.csv\"\n",
    "    df.to_csv(csv_path, index=False)\n",
    "    print(f\"CSV guardado: {csv_path}\")\n"
   ]
  },
  {
   "cell_type": "markdown",
   "id": "d4c76259",
   "metadata": {},
   "source": [
    "## 13. Análisis: histogramas de magnitud y vorticidad\n",
    "\n",
    "Se generan histogramas con 100 bins, se limpia NaN/Inf, y se dibuja la línea de la media para referencia."
   ]
  },
  {
   "cell_type": "code",
   "execution_count": 14,
   "id": "28c39ec0",
   "metadata": {},
   "outputs": [],
   "source": [
    "def visualizar_histograma(metric_data, title, tag, base_name, output_dir):\n",
    "    \"\"\"Crea y guarda un histograma de la distribución de una métrica.\"\"\"\n",
    "    fig, ax = plt.subplots(figsize=(8, 5))\n",
    "    data_flat = metric_data.flatten()\n",
    "    data_flat = data_flat[np.isfinite(data_flat)]\n",
    "    ax.hist(data_flat, bins=100, density=True, color='c', edgecolor='k', alpha=0.7)\n",
    "    mean_val = np.mean(data_flat)\n",
    "    ax.axvline(mean_val, color='r', linestyle='--', linewidth=2, label=f'Media: {mean_val:.2f}')\n",
    "    ax.set_title(f'Distribución de {title} - {base_name}')\n",
    "    ax.set_xlabel(title)\n",
    "    ax.set_ylabel('Densidad de Probabilidad')\n",
    "    ax.legend()\n",
    "    ax.grid(True, linestyle=':', alpha=0.6)\n",
    "    _guardar_figura(fig, base_name, tag, output_dir)\n",
    "    plt.close(fig)\n"
   ]
  },
  {
   "cell_type": "markdown",
   "id": "5882746d",
   "metadata": {},
   "source": [
    "## 14. Reporte: generar Markdown con enlaces a figuras\n",
    "\n",
    "Se construye un archivo `.md` por basename con las imágenes PNG y enlaces a SVG, organizado en secciones."
   ]
  },
  {
   "cell_type": "code",
   "execution_count": 15,
   "id": "a0c5b9f7",
   "metadata": {},
   "outputs": [],
   "source": [
    "def generar_reporte_md(base_name, output_dir: Path):\n",
    "    \"\"\"Genera un archivo Markdown simple enlazando las figuras generadas.\"\"\"\n",
    "    tags = ['vectores', 'magnitud', 'vorticidad', 'streamlines', 'hist_magnitud', 'hist_vorticidad']\n",
    "    lines = [f\"# Reporte PIV: {base_name}\\n\"]\n",
    "    for tag in tags:\n",
    "        png_file = f\"{base_name}_{tag}.png\"\n",
    "        svg_file = f\"{base_name}_{tag}.svg\"\n",
    "        if (output_dir / png_file).exists():\n",
    "            lines.append(f\"## {tag.replace('_', ' ').capitalize()}\")\n",
    "            lines.append(f\"![{tag}]({output_dir.name}/{png_file})\")\n",
    "            lines.append(f\"[Descargar SVG]({output_dir.name}/{svg_file})\")\n",
    "            lines.append(\"\")\n",
    "    md_content = '\\n'.join(lines)\n",
    "    out_md = output_dir.parent / f'{base_name}_reporte.md'\n",
    "    out_md.write_text(md_content, encoding='utf-8')\n",
    "    print(f\"Reporte generado: {out_md}\")\n"
   ]
  },
  {
   "cell_type": "markdown",
   "id": "8a066b22",
   "metadata": {},
   "source": [
    "## 15. Pipeline completo: procesar todos los pares encontrados\n",
    "\n",
    "Orquestación del flujo completo:\n",
    "1. Detectar basenames con `*_0.*` y `*_1.*`\n",
    "2. Por cada basename: cargar imágenes, calcular flujo, métricas y mallas\n",
    "3. Exportar CSV, analizar extremos y generar visualizaciones\n",
    "4. Generar reporte Markdown por par procesado"
   ]
  },
  {
   "cell_type": "code",
   "execution_count": 16,
   "id": "1bf5ad36",
   "metadata": {},
   "outputs": [
    {
     "name": "stdout",
     "output_type": "stream",
     "text": [
      "--- Iniciando Análisis PIV ---\n",
      "Directorio de Datos (Entrada): c:\\Users\\edgar\\Documents\\GitHub\\Aero-Messure\\Practicas\\files\\p6\n",
      "Directorio de Datos (Salida CSV): c:\\Users\\edgar\\Documents\\GitHub\\Aero-Messure\\Practicas\\P06_PIV\\notebooks\\data\n",
      "Directorio de Imágenes (Salida): c:\\Users\\edgar\\Documents\\GitHub\\Aero-Messure\\Practicas\\P06_PIV\\notebooks\\data\\images\n",
      "No se encontraron pares válidos (basename_0.* y basename_1.*).\n",
      "\n",
      "--- Análisis PIV finalizado ---\n"
     ]
    }
   ],
   "source": [
    "# Ejecutar pipeline completo (esta celda procesa todos los pares disponibles)\n",
    "print(\"--- Iniciando Análisis PIV ---\")\n",
    "print(f\"Directorio de Datos (Entrada): {P6_FILES_DIR}\")\n",
    "print(f\"Directorio de Datos (Salida CSV): {DATA_DIR}\")\n",
    "print(f\"Directorio de Imágenes (Salida): {OUTPUT_DIR}\")\n",
    "\n",
    "basenames = encontrar_pares_piv(P6_FILES_DIR)\n",
    "if not basenames:\n",
    "    print(\"No se encontraron pares válidos (basename_0.* y basename_1.*).\")\n",
    "else:\n",
    "    print(f\"Se procesarán {len(basenames)} pares de imágenes.\")\n",
    "\n",
    "for i, basename in enumerate(basenames, start=1):\n",
    "    print(\"\\n\" + \"-\"*65)\n",
    "    print(f\"Procesando Par {i}/{len(basenames)}: {basename}\")\n",
    "    print(\"-\"*65)\n",
    "    # 1. Cargar imágenes\n",
    "    img1, img2, base_name = cargar_par_imagenes(basename, P6_FILES_DIR)\n",
    "    if img1 is None:\n",
    "        print(f\"Error al cargar {basename}, se omite.\")\n",
    "        continue\n",
    "    # 2. Flujo óptico\n",
    "    flow = calcular_flujo_optico(img1, img2, **params_farneback)\n",
    "    # 3. Métricas\n",
    "    u, v, magnitude, vorticity = calcular_metricas_flujo(flow)\n",
    "    # 4. Mallas\n",
    "    x, y, (x_q, y_q) = preparar_visualizacion(img1.shape, skip)\n",
    "    # 5. CSV\n",
    "    guardar_datos_csv(u, v, magnitude, vorticity, base_name, DATA_DIR)\n",
    "    # 6. Extremos\n",
    "    extremos = analizar_puntos_extremos(magnitude, vorticity)\n",
    "    mag_points = [extremos[\"max_mag\"], extremos[\"min_mag\"]]\n",
    "    vort_points = [extremos[\"max_vort\"], extremos[\"min_vort\"]]\n",
    "    # 7. Visualizaciones\n",
    "    visualizar_vectores(x_q, y_q, u, v, skip, img1, base_name, OUTPUT_DIR)\n",
    "    visualizar_mapa_calor(magnitude, x, y, 'Magnitud de Velocidad |V|', cm.jet, \n",
    "                          'magnitud', base_name, OUTPUT_DIR,\n",
    "                          points_to_mark=mag_points)\n",
    "    visualizar_mapa_calor(vorticity, x, y, 'Vorticidad $\\\\omega_z$', cm.seismic, \n",
    "                          'vorticidad', base_name, OUTPUT_DIR,\n",
    "                          points_to_mark=vort_points)\n",
    "    visualizar_streamlines(x, y, u, v, img1, base_name, OUTPUT_DIR)\n",
    "    # 8. Histogramas\n",
    "    visualizar_histograma(magnitude, 'Magnitud de Velocidad', 'hist_magnitud', base_name, OUTPUT_DIR)\n",
    "    visualizar_histograma(vorticity, 'Vorticidad', 'hist_vorticidad', base_name, OUTPUT_DIR)\n",
    "    # 9. Reporte\n",
    "    generar_reporte_md(base_name, OUTPUT_DIR)\n",
    "    print(f\"Fin del procesamiento de {basename}\")\n",
    "\n",
    "print(\"\\n--- Análisis PIV finalizado ---\")"
   ]
  },
  {
   "cell_type": "markdown",
   "id": "0a78bc2e",
   "metadata": {},
   "source": [
    "## 16. Verificación rápida: listar archivos generados\n",
    "\n",
    "Se listan los archivos generados en `data/` y `data/images/` (CSV, PNG, SVG, MD) y se muestran algunos ejemplos."
   ]
  },
  {
   "cell_type": "code",
   "execution_count": 17,
   "id": "33416b9b",
   "metadata": {},
   "outputs": [
    {
     "name": "stdout",
     "output_type": "stream",
     "text": [
      "PNGs: 0 | SVGs: 0 | CSVs: 0 | MDs: 0\n"
     ]
    }
   ],
   "source": [
    "# Listar archivos generados\n",
    "pngs = sorted(OUTPUT_DIR.glob('*.png'))\n",
    "svgs = sorted(OUTPUT_DIR.glob('*.svg'))\n",
    "mds = sorted(DATA_DIR.glob('*_reporte.md'))\n",
    "csvs = sorted(DATA_DIR.glob('*_datos_piv.csv'))\n",
    "print(f\"PNGs: {len(pngs)} | SVGs: {len(svgs)} | CSVs: {len(csvs)} | MDs: {len(mds)}\")\n",
    "for sample in (pngs[:3] + svgs[:3] + csvs[:3] + mds[:3]):\n",
    "    print(\" -\", sample)"
   ]
  },
  {
   "cell_type": "markdown",
   "id": "6f0ecea5",
   "metadata": {},
   "source": [
    "## 17. Interpretación de resultados y guía de lectura\n",
    "\n",
    "Esta sección resume cómo leer e interpretar cada salida del pipeline.\n",
    "\n",
    "### Campo de vectores (quiver)\n",
    "- Vectores largos indican mayor desplazamiento local entre imágenes (mayor velocidad aparente).\n",
    "- Campos casi uniformes sugieren traslación global; gradientes marcan cizalla; vectores que cambian de dirección definen recirculaciones.\n",
    "- En índices de imagen, el eje Y crece hacia abajo; por eso se invierte para visualizar con orientación cartesiana.\n",
    "- Submuestreo `skip`: demasiados vectores pueden ocultar patrones; aumentar `skip` para limpiar, reducirlo para más detalle.\n",
    "\n",
    "### Mapa de magnitud |V|\n",
    "- Zonas calientes (amarillo/rojo en `jet`) = mayor velocidad; zonas frías (azul) = baja velocidad.\n",
    "- Bordes de objetos o capas de cizalla suelen concentrar gradientes de magnitud.\n",
    "- Si la escala está saturada (máximos muy altos), ajustar la ventana (`winsize`) o suavizado (`poly_sigma`) para estabilizar.\n",
    "\n",
    "### Mapa de vorticidad ωz\n",
    "- Convención: ωz > 0 (giro anti-horario), ωz < 0 (giro horario). El colormap bipolar (`seismic`) y normalización simétrica facilitan comparar.\n",
    "- Núcleos compactos de vorticidad suelen marcar vórtices; bandas alternas indican calles de vórtices (p.ej., Von Kármán).\n",
    "- Los marcadores de extremos ayudan a localizar centros de giro o regiones de mayor cizalla.\n",
    "\n",
    "### Líneas de corriente (streamlines)\n",
    "- Muestran la topología del campo: recirculaciones (lóbulos cerrados), separaciones, uniones y puntos silla.\n",
    "- Coloreadas por |V| para contextualizar zonas de alta/baja velocidad.\n",
    "- Útiles para validar coherencia global: las líneas deberían seguir el patrón esperado del experimento.\n",
    "\n",
    "### Histogramas\n",
    "- |V|: \n",
    "  - Picos cerca de cero indican regiones extensas de baja velocidad o deslizamiento mínimo.\n",
    "  - Colas largas sugieren jets, bordes de capas o movimiento fuera del plano que induce aparente desplazamiento.\n",
    "- ωz:\n",
    "  - Distribuciones simétricas alrededor de 0 indican balance de giros horario/antihorario; sesgo sugiere dominancia de un sentido.\n",
    "  - Anchura (desviación típica) refleja intensidad promedio de cizalla/rotación.\n",
    "\n",
    "### Datos CSV (x, y, u, v, magnitud, vorticidad)\n",
    "- Están en unidades de píxel por intervalo de tiempo entre imágenes (frame). Para convertir a unidades físicas (m/s):\n",
    "  - Calibración espacial: factor de escala [m/px] (p.ej., con patrón o dimensiones conocidas).\n",
    "  - Calibración temporal: Δt entre imágenes (segundos).\n",
    "  - Entonces: U[m/s] = u[px] · (m/px) / Δt; V[m/s] = v[px] · (m/px) / Δt.\n",
    "- Con el CSV puedes:\n",
    "  - Calcular promedios espaciales, perfiles, integrales de flujo, y análisis espectral tras postprocesado.\n",
    "\n",
    "### Artefactos típicos y ajustes\n",
    "- Cambios de iluminación o bajo sembrado (pocas partículas) → flujo ruidoso. Aumentar `winsize`, `poly_sigma` y/o `levels` puede ayudar.\n",
    "- Estructuras muy finas que se suavizan → reducir `winsize` y `poly_sigma`, o bajar `pyr_scale` y `levels` para menos alisado piramidal.\n",
    "- Desplazamientos grandes entre frames → aumentar `levels` y `winsize`.\n",
    "- Bordes de imagen: gradientes menos fiables por padding; interpretar con cautela.\n",
    "\n",
    "### Siguientes pasos recomendados\n",
    "- Aplicar máscaras (ROI) para excluir paredes o zonas sin señal.\n",
    "- Filtrar el campo (medianas/gaussiano ligero) y/o realizar validación de outliers (p.ej., umbrales de magnitud/vorticidad).\n",
    "- Convertir a unidades físicas con calibración y reportar incertidumbre.\n",
    "- Comparar con PIV clásico por correlación cruzada (ventanas multipaso) si se requiere mayor robustez en flujos complejos.\n"
   ]
  }
 ],
 "metadata": {
  "kernelspec": {
   "display_name": ".venv",
   "language": "python",
   "name": "python3"
  },
  "language_info": {
   "codemirror_mode": {
    "name": "ipython",
    "version": 3
   },
   "file_extension": ".py",
   "mimetype": "text/x-python",
   "name": "python",
   "nbconvert_exporter": "python",
   "pygments_lexer": "ipython3",
   "version": "3.13.1"
  }
 },
 "nbformat": 4,
 "nbformat_minor": 5
}
