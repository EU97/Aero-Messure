{
 "cells": [
  {
   "cell_type": "markdown",
   "id": "473bd91d",
   "metadata": {},
   "source": [
    "# Práctica 6: PIV\n",
    "\n",
    "Pipeline: carga de pares A/B, preprocesado (fondo, ecualización), PIV multipase, outliers, derivados."
   ]
  },
  {
   "cell_type": "code",
   "execution_count": null,
   "id": "e83779be",
   "metadata": {},
   "outputs": [],
   "source": [
    "import numpy as np\n",
    "import matplotlib.pyplot as plt\n",
    "from pathlib import Path\n",
    "import cv2\n",
    "import openpiv.tools as tools\n",
    "import openpiv.process as process\n",
    "import openpiv.validation as validation\n",
    "import openpiv.filters as filters\n",
    "import openpiv.scaling as scaling"
   ]
  },
  {
   "cell_type": "code",
   "execution_count": null,
   "id": "c4a0b102",
   "metadata": {},
   "outputs": [],
   "source": [
    "DATA_DIR = Path('..') / 'data' / 'pairs'\n",
    "pairs = sorted(DATA_DIR.glob('*.tif'))\n",
    "pairs[:4]  # espera A1,B1,A2,B2..."
   ]
  },
  {
   "cell_type": "code",
   "execution_count": null,
   "id": "3f388db3",
   "metadata": {},
   "outputs": [],
   "source": [
    "# Ejemplo simple con la primera pareja\n",
    "frame_a = tools.imread(pairs[0])\n",
    "frame_b = tools.imread(pairs[1])\n",
    "u, v, sig2noise = process.extended_search_area_piv(\n",
    "    frame_a, frame_b, window_size=32, overlap=16, dt=0.01, search_area_size=64\n",
    ")\n",
    "x, y = process.get_coordinates(image_size=frame_a.shape, window_size=32, overlap=16)\n",
    "u, v, mask = validation.sig2noise_val(u, v, sig2noise, threshold = 1.3)\n",
    "u, v = filters.replace_outliers(u, v, method='localmean', max_iter=3, kernel_size=2)\n",
    "x, y, u, v = scaling.uniform(x, y, u, v, scaling_factor=1.0)\n",
    "plt.figure(figsize=(6,6)); plt.quiver(x, y, u, v); plt.gca().invert_yaxis(); plt.title('Campo PIV'); plt.show()"
   ]
  }
 ],
 "metadata": {
  "language_info": {
   "name": "python"
  }
 },
 "nbformat": 4,
 "nbformat_minor": 5
}
