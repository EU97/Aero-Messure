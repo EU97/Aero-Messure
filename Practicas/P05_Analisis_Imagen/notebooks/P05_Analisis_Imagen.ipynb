{
 "cells": [
  {
   "cell_type": "markdown",
   "id": "6c0b32cd",
   "metadata": {},
   "source": [
    "# Práctica 5: Análisis de Imagen\n",
    "\n",
    "Pipeline: carga, preprocesado (iluminación, filtros), segmentación, medidas (bordes/áreas), validación."
   ]
  },
  {
   "cell_type": "code",
   "execution_count": null,
   "id": "1c5774f1",
   "metadata": {},
   "outputs": [],
   "source": [
    "# Imports básicos\n",
    "import numpy as np\n",
    "import matplotlib.pyplot as plt\n",
    "from skimage import io, color, filters, exposure, feature, morphology, measure\n",
    "import cv2"
   ]
  },
  {
   "cell_type": "code",
   "execution_count": null,
   "id": "f4f7c084",
   "metadata": {},
   "outputs": [],
   "source": [
    "# Configuración\n",
    "from pathlib import Path\n",
    "DATA_DIR = Path('..') / 'data'\n",
    "# Cambia el nombre de la imagen si es necesario\n",
    "image_path = DATA_DIR / 'example.png'\n",
    "print('Usando imagen:', image_path)"
   ]
  },
  {
   "cell_type": "code",
   "execution_count": null,
   "id": "5745cf31",
   "metadata": {},
   "outputs": [],
   "source": [
    "# Carga y conversión a escala de grises\n",
    "img = io.imread(image_path)\n",
    "if img.ndim == 3:\n",
    "    gray = color.rgb2gray(img)\n",
    "else:\n",
    "    gray = img.astype(float)/255.0\n",
    "plt.imshow(gray, cmap='gray'); plt.title('Gray'); plt.axis('off')"
   ]
  },
  {
   "cell_type": "code",
   "execution_count": null,
   "id": "0b2e6731",
   "metadata": {},
   "outputs": [],
   "source": [
    "# Corrección de iluminación + suavizado\n",
    "gray_eq = exposure.equalize_adapthist(gray, clip_limit=0.03)\n",
    "gray_blur = cv2.GaussianBlur((gray_eq*255).astype('uint8'), (5,5), 0)\n",
    "plt.figure(figsize=(10,4))\n",
    "plt.subplot(1,2,1); plt.imshow(gray_eq, cmap='gray'); plt.title('CLAHE'); plt.axis('off')\n",
    "plt.subplot(1,2,2); plt.imshow(gray_blur, cmap='gray'); plt.title('Gaussian'); plt.axis('off')"
   ]
  },
  {
   "cell_type": "code",
   "execution_count": null,
   "id": "fa88d6ef",
   "metadata": {},
   "outputs": [],
   "source": [
    "# Segmentación: Otsu y morfología\n",
    "th = filters.threshold_otsu(gray_blur)\n",
    "binary = gray_blur > th\n",
    "binary = morphology.remove_small_holes(binary, area_threshold=64)\n",
    "binary = morphology.remove_small_objects(binary, min_size=64)\n",
    "plt.imshow(binary, cmap='gray'); plt.title('Binary'); plt.axis('off')"
   ]
  },
  {
   "cell_type": "code",
   "execution_count": null,
   "id": "487f2cdf",
   "metadata": {},
   "outputs": [],
   "source": [
    "# Medidas: contornos, áreas, centroides\n",
    "labels = measure.label(binary)\n",
    "props = measure.regionprops(labels)\n",
    "print('Objetos:', len(props))\n",
    "for i,p in enumerate(props[:5]):\n",
    "    print(i, 'area', p.area, 'centroid', p.centroid)"
   ]
  }
 ],
 "metadata": {
  "language_info": {
   "name": "python"
  }
 },
 "nbformat": 4,
 "nbformat_minor": 5
}
