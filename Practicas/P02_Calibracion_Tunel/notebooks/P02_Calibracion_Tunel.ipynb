{
 "cells": [
  {
   "cell_type": "markdown",
   "id": "0d55096d",
   "metadata": {},
   "source": [
    "# P02: Calibración del Túnel de Viento"
   ]
  },
  {
   "cell_type": "code",
   "execution_count": null,
   "id": "131e5e27",
   "metadata": {},
   "outputs": [],
   "source": [
    "import pandas as pd, numpy as np, matplotlib.pyplot as plt\n",
    "from pathlib import Path\n",
    "\n",
    "DATA=Path('..')/'data'\n",
    "cal = pd.read_csv(DATA/'calibracion.csv')\n",
    "# rho si falta: estimar con T y P\n",
    "V = np.sqrt(2*cal['dp'] / cal.get('rho', 1.225))\n",
    "plt.scatter(cal['rpm'], V); plt.xlabel('RPM'); plt.ylabel('V (m/s)'); plt.title('Calibración');"
   ]
  }
 ],
 "metadata": {
  "language_info": {
   "name": "python"
  }
 },
 "nbformat": 4,
 "nbformat_minor": 5
}
