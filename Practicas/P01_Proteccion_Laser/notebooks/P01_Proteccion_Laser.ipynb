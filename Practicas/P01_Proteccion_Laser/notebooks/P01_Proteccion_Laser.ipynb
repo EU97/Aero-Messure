{
 "cells": [
  {
   "cell_type": "markdown",
   "id": "50c6f591",
   "metadata": {},
   "source": [
    "# P01: Protección Láser\n",
    "\n",
    "Cálculo de OD requerido y selección de gafas según λ/potencia."
   ]
  },
  {
   "cell_type": "code",
   "execution_count": null,
   "id": "ff7bfdc1",
   "metadata": {},
   "outputs": [],
   "source": [
    "import pandas as pd\n",
    "from pathlib import Path\n",
    "\n",
    "DATA = Path('..')/'data'\n",
    "# Ejemplo: lasers.csv con columnas: lambda_nm, power_W, mode (CW/pulsed)\n",
    "lasers = pd.read_csv(DATA/'lasers.csv')\n",
    "lasers.head()"
   ]
  }
 ],
 "metadata": {
  "language_info": {
   "name": "python"
  }
 },
 "nbformat": 4,
 "nbformat_minor": 5
}
