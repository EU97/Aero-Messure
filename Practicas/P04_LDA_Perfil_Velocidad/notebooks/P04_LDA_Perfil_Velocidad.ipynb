{
 "cells": [
  {
   "cell_type": "markdown",
   "id": "641f3af2",
   "metadata": {},
   "source": [
    "# P04: LDA/LDV Perfil de Velocidades"
   ]
  },
  {
   "cell_type": "code",
   "execution_count": null,
   "id": "bebcff14",
   "metadata": {},
   "outputs": [],
   "source": [
    "import pandas as pd, numpy as np, matplotlib.pyplot as plt\n",
    "from pathlib import Path\n",
    "\n",
    "DATA=Path('..')/'data'\n",
    "pts = pd.read_csv(DATA/'lda_points.csv')\n",
    "pts = pts.sort_values('y_mm')\n",
    "plt.plot(pts['y_mm'], pts['U_ms']); plt.xlabel('y (mm)'); plt.ylabel('U (m/s)'); plt.title('Perfil U(y)')"
   ]
  }
 ],
 "metadata": {
  "language_info": {
   "name": "python"
  }
 },
 "nbformat": 4,
 "nbformat_minor": 5
}
