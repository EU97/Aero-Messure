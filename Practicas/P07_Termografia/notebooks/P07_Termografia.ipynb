{
 "cells": [
  {
   "cell_type": "markdown",
   "id": "faba42ae",
   "metadata": {},
   "source": [
    "# P07: Termografía"
   ]
  },
  {
   "cell_type": "code",
   "execution_count": null,
   "id": "325c0f1e",
   "metadata": {},
   "outputs": [],
   "source": [
    "from pathlib import Path\n",
    "import numpy as np, matplotlib.pyplot as plt\n",
    "from skimage import io\n",
    "\n",
    "DATA=Path('..')/'data'\n",
    "img = io.imread(DATA/'ir_image.tif')\n",
    "plt.imshow(img, cmap='inferno'); plt.colorbar(label='Radiancia/Temp (a definir)'); plt.title('Mapa térmico')"
   ]
  }
 ],
 "metadata": {
  "language_info": {
   "name": "python"
  }
 },
 "nbformat": 4,
 "nbformat_minor": 5
}
