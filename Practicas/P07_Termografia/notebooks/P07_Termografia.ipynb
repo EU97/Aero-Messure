{
 "cells": [
  {
   "cell_type": "markdown",
   "id": "faba42ae",
   "metadata": {},
   "source": [
    "# P07: Termografía"
   ]
  },
  {
   "cell_type": "markdown",
   "id": "eb0504d9",
   "metadata": {},
   "source": [
    "## Introducción\n",
    "\n",
    "En esta práctica analizaremos imágenes termográficas utilizando Python. La termografía es una técnica de medición sin contacto que permite visualizar la distribución de temperatura en una superficie mediante la detección de radiación infrarroja.\n",
    "\n",
    "Realizaremos:\n",
    "- Carga y visualización de imágenes termográficas\n",
    "- Análisis de regiones de interés (ROI)\n",
    "- Histogramas de distribución de intensidad\n",
    "- Análisis multicanal (RGB y escala de grises)"
   ]
  },
  {
   "cell_type": "markdown",
   "id": "844c05d0",
   "metadata": {},
   "source": [
    "## 1. Importar librerías y configuración inicial"
   ]
  },
  {
   "cell_type": "code",
   "execution_count": null,
   "id": "c00cccb6",
   "metadata": {},
   "outputs": [],
   "source": [
    "from pathlib import Path\n",
    "import numpy as np\n",
    "import matplotlib.pyplot as plt\n",
    "from PIL import Image\n",
    "from skimage import io\n",
    "\n",
    "# Configuración para gráficas de mejor calidad\n",
    "plt.rcParams['figure.figsize'] = (12, 8)\n",
    "plt.rcParams['figure.dpi'] = 100\n",
    "\n",
    "# Definir ruta a los datos\n",
    "DATA = Path('..') / '..' / '..' / 'files' / 'p7'\n",
    "\n",
    "print(f\"Ruta de datos: {DATA}\")\n",
    "print(f\"Archivos disponibles: {list(DATA.glob('*'))}\")"
   ]
  },
  {
   "cell_type": "markdown",
   "id": "edd535c1",
   "metadata": {},
   "source": [
    "## 2. Función para cargar y visualizar imágenes\n",
    "\n",
    "Creamos una función que nos permite cargar y mostrar imágenes termográficas."
   ]
  },
  {
   "cell_type": "code",
   "execution_count": null,
   "id": "10e3707e",
   "metadata": {},
   "outputs": [],
   "source": [
    "def load_and_display_image(image_path, title='Imagen Termográfica'):\n",
    "    \"\"\"\n",
    "    Carga y muestra una imagen termográfica.\n",
    "    \n",
    "    Parameters:\n",
    "    -----------\n",
    "    image_path : str o Path\n",
    "        Ruta al archivo de imagen\n",
    "    title : str\n",
    "        Título para la visualización\n",
    "    \n",
    "    Returns:\n",
    "    --------\n",
    "    img_pil : PIL.Image\n",
    "        Objeto de imagen PIL cargado\n",
    "    \"\"\"\n",
    "    try:\n",
    "        img_pil = Image.open(image_path)\n",
    "        \n",
    "        plt.figure(figsize=(10, 8))\n",
    "        plt.imshow(img_pil)\n",
    "        plt.title(title, fontsize=14, fontweight='bold')\n",
    "        plt.axis('off')\n",
    "        plt.tight_layout()\n",
    "        plt.show()\n",
    "        \n",
    "        # Información de la imagen\n",
    "        print(f\"Imagen cargada: {image_path}\")\n",
    "        print(f\"Tamaño: {img_pil.size}\")\n",
    "        print(f\"Modo: {img_pil.mode}\")\n",
    "        \n",
    "        return img_pil\n",
    "    \n",
    "    except FileNotFoundError:\n",
    "        print(f\"Error: No se encontró el archivo {image_path}\")\n",
    "        return None\n",
    "    except Exception as e:\n",
    "        print(f\"Error al cargar la imagen: {e}\")\n",
    "        return None"
   ]
  },
  {
   "cell_type": "markdown",
   "id": "50606891",
   "metadata": {},
   "source": [
    "## 3. Función para análisis de ROI (Región de Interés) con histogramas\n",
    "\n",
    "Esta función nos permite seleccionar una región de la imagen y analizar su distribución de intensidad mediante histogramas."
   ]
  },
  {
   "cell_type": "code",
   "execution_count": null,
   "id": "b28fb4b1",
   "metadata": {},
   "outputs": [],
   "source": [
    "def plot_histogram_roi(img_pil, roi_coords, channel='L', title_prefix='ROI', bins=256):\n",
    "    \"\"\"\n",
    "    Recorta un ROI de una imagen PIL y muestra el ROI junto con su histograma.\n",
    "    \n",
    "    Parameters:\n",
    "    -----------\n",
    "    img_pil : PIL.Image\n",
    "        Imagen PIL cargada\n",
    "    roi_coords : tuple\n",
    "        Coordenadas del ROI en formato (left, upper, right, lower)\n",
    "    channel : str o int\n",
    "        Canal a analizar:\n",
    "        - 'L': Escala de grises (Luminancia)\n",
    "        - 0: Canal Rojo\n",
    "        - 1: Canal Verde\n",
    "        - 2: Canal Azul\n",
    "    title_prefix : str\n",
    "        Prefijo para los títulos de las gráficas\n",
    "    bins : int\n",
    "        Número de bins para el histograma (default: 256)\n",
    "    \n",
    "    Returns:\n",
    "    --------\n",
    "    roi : PIL.Image\n",
    "        Imagen recortada del ROI\n",
    "    histogram : numpy.array\n",
    "        Valores del histograma calculado\n",
    "    \"\"\"\n",
    "    try:\n",
    "        # Recortar el ROI\n",
    "        roi = img_pil.crop(roi_coords)\n",
    "        \n",
    "        # Convertir según el canal solicitado\n",
    "        if channel == 'L':\n",
    "            # Convertir a escala de grises\n",
    "            roi_channel = roi.convert('L')\n",
    "            channel_name = 'Escala de Grises (Luminancia)'\n",
    "            cmap = 'gray'\n",
    "        elif channel in [0, 1, 2]:\n",
    "            # Extraer el canal específico (RGB)\n",
    "            roi_rgb = np.array(roi)\n",
    "            roi_channel_data = roi_rgb[:, :, channel]\n",
    "            roi_channel = Image.fromarray(roi_channel_data)\n",
    "            channel_names = ['Rojo', 'Verde', 'Azul']\n",
    "            channel_name = f'Canal {channel_names[channel]}'\n",
    "            cmaps = ['Reds', 'Greens', 'Blues']\n",
    "            cmap = cmaps[channel]\n",
    "        else:\n",
    "            print(f\"Canal '{channel}' no reconocido. Usa 'L', 0, 1, o 2.\")\n",
    "            return None, None\n",
    "        \n",
    "        # Convertir a array numpy para calcular histograma\n",
    "        roi_array = np.array(roi_channel)\n",
    "        \n",
    "        # Crear figura con dos subplots\n",
    "        fig, axes = plt.subplots(1, 2, figsize=(14, 5))\n",
    "        \n",
    "        # Subplot 1: Mostrar el ROI\n",
    "        axes[0].imshow(roi_channel, cmap=cmap)\n",
    "        axes[0].set_title(f'{title_prefix} - {channel_name}', fontsize=12, fontweight='bold')\n",
    "        axes[0].axis('off')\n",
    "        \n",
    "        # Subplot 2: Histograma\n",
    "        histogram, bin_edges = np.histogram(roi_array.flatten(), bins=bins, range=(0, 256))\n",
    "        axes[1].bar(bin_edges[:-1], histogram, width=1, color='steelblue', edgecolor='black', alpha=0.7)\n",
    "        axes[1].set_title(f'Histograma - {channel_name}', fontsize=12, fontweight='bold')\n",
    "        axes[1].set_xlabel('Intensidad de Píxel', fontsize=10)\n",
    "        axes[1].set_ylabel('Frecuencia', fontsize=10)\n",
    "        axes[1].grid(axis='y', alpha=0.3)\n",
    "        \n",
    "        # Estadísticas\n",
    "        mean_val = np.mean(roi_array)\n",
    "        std_val = np.std(roi_array)\n",
    "        min_val = np.min(roi_array)\n",
    "        max_val = np.max(roi_array)\n",
    "        \n",
    "        stats_text = f'Media: {mean_val:.2f}\\nDesv. Est.: {std_val:.2f}\\nMin: {min_val}\\nMax: {max_val}'\n",
    "        axes[1].text(0.98, 0.97, stats_text, transform=axes[1].transAxes,\n",
    "                    fontsize=9, verticalalignment='top', horizontalalignment='right',\n",
    "                    bbox=dict(boxstyle='round', facecolor='wheat', alpha=0.5))\n",
    "        \n",
    "        plt.tight_layout()\n",
    "        plt.show()\n",
    "        \n",
    "        print(f\"\\nEstadísticas del ROI ({channel_name}):\")\n",
    "        print(f\"  Media: {mean_val:.2f}\")\n",
    "        print(f\"  Desviación estándar: {std_val:.2f}\")\n",
    "        print(f\"  Valor mínimo: {min_val}\")\n",
    "        print(f\"  Valor máximo: {max_val}\")\n",
    "        print(f\"  Tamaño del ROI: {roi.size}\")\n",
    "        \n",
    "        return roi, histogram\n",
    "    \n",
    "    except Exception as e:\n",
    "        print(f\"Error al procesar el ROI: {e}\")\n",
    "        return None, None"
   ]
  },
  {
   "cell_type": "markdown",
   "id": "0600998f",
   "metadata": {},
   "source": [
    "## 4. Análisis de Imagen 1: Aeronave\n",
    "\n",
    "Cargaremos y visualizaremos la primera imagen termográfica de una aeronave."
   ]
  },
  {
   "cell_type": "code",
   "execution_count": null,
   "id": "8fa43700",
   "metadata": {},
   "outputs": [],
   "source": [
    "# Cargar y mostrar Imagen 1\n",
    "path_imagen1 = DATA / 'Imagen1.png'\n",
    "print(\"Mostrando Imagen 1 - Aeronave:\")\n",
    "img1_pil = load_and_display_image(path_imagen1, title='Imagen 1: Aeronave')"
   ]
  },
  {
   "cell_type": "markdown",
   "id": "72ffd28b",
   "metadata": {},
   "source": [
    "## 5. Análisis de Imagen 2\n",
    "\n",
    "Cargaremos y visualizaremos la segunda imagen termográfica."
   ]
  },
  {
   "cell_type": "code",
   "execution_count": null,
   "id": "557b9759",
   "metadata": {},
   "outputs": [],
   "source": [
    "# Cargar y mostrar Imagen 2\n",
    "path_imagen2 = DATA / 'Imagen2.png'\n",
    "print(\"Mostrando Imagen 2:\")\n",
    "img2_pil = load_and_display_image(path_imagen2, title='Imagen 2')"
   ]
  },
  {
   "cell_type": "markdown",
   "id": "1fb635ed",
   "metadata": {},
   "source": [
    "## 6. Análisis de Imagen 3"
   ]
  },
  {
   "cell_type": "code",
   "execution_count": null,
   "id": "025626f7",
   "metadata": {},
   "outputs": [],
   "source": [
    "# Cargar y mostrar Imagen 3\n",
    "path_imagen3 = DATA / 'Imagen3.png'\n",
    "print(\"Mostrando Imagen 3:\")\n",
    "img3_pil = load_and_display_image(path_imagen3, title='Imagen 3')"
   ]
  },
  {
   "cell_type": "markdown",
   "id": "be2b302b",
   "metadata": {},
   "source": [
    "## 7. Análisis de Imagen 4"
   ]
  },
  {
   "cell_type": "code",
   "execution_count": null,
   "id": "36273d0c",
   "metadata": {},
   "outputs": [],
   "source": [
    "# Cargar y mostrar Imagen 4\n",
    "path_imagen4 = DATA / 'Imagen4.png'\n",
    "print(\"Mostrando Imagen 4:\")\n",
    "img4_pil = load_and_display_image(path_imagen4, title='Imagen 4')"
   ]
  },
  {
   "cell_type": "markdown",
   "id": "c96c6d2f",
   "metadata": {},
   "source": [
    "## 8. Análisis de Imagen 5\n",
    "\n",
    "Esta imagen contiene tazas con líquidos a diferentes temperaturas. Analizaremos regiones de interés específicas."
   ]
  },
  {
   "cell_type": "code",
   "execution_count": null,
   "id": "2312c257",
   "metadata": {},
   "outputs": [],
   "source": [
    "# Cargar y mostrar Imagen 5\n",
    "path_imagen5 = DATA / 'Imagen5.png'\n",
    "print(\"Mostrando Imagen 5:\")\n",
    "img5_pil = load_and_display_image(path_imagen5, title='Imagen 5: Tazas con Líquidos')"
   ]
  },
  {
   "cell_type": "markdown",
   "id": "285907ca",
   "metadata": {},
   "source": [
    "### 8.1 Análisis de ROI en Imagen 5 - Escala de Grises\n",
    "\n",
    "Analizaremos una región de interés (ROI) correspondiente a una de las tazas en la Imagen 5. \n",
    "Ajusta las coordenadas `roi_coords` según la ubicación de las tazas en la imagen."
   ]
  },
  {
   "cell_type": "code",
   "execution_count": null,
   "id": "8aea31e2",
   "metadata": {},
   "outputs": [],
   "source": [
    "# Definir coordenadas aproximadas para una taza en Imagen5\n",
    "# Estas coordenadas son (left, upper, right, lower) - ajustar según la imagen\n",
    "roi_taza_coords_img5 = (50, 100, 250, 400)  # Ejemplo, ajustar según la imagen real\n",
    "\n",
    "# Analizar el ROI en escala de grises\n",
    "if img5_pil:\n",
    "    plot_histogram_roi(img5_pil,\n",
    "                      roi_coords=roi_taza_coords_img5,\n",
    "                      channel='L',\n",
    "                      title_prefix='Imagen 5 - Taza 1')\n",
    "else:\n",
    "    print(\"Error: No se pudo cargar la Imagen 5\")"
   ]
  },
  {
   "cell_type": "markdown",
   "id": "14db53a8",
   "metadata": {},
   "source": [
    "### 8.2 Análisis de ROI en Imagen 5 - Canal Rojo\n",
    "\n",
    "Ahora analizaremos la misma región pero enfocándonos en el canal rojo, que típicamente representa las temperaturas más altas en las imágenes termográficas."
   ]
  },
  {
   "cell_type": "code",
   "execution_count": null,
   "id": "ca48871f",
   "metadata": {},
   "outputs": [],
   "source": [
    "# Analizar el canal rojo del mismo ROI (paleta térmica usa rojo para calor)\n",
    "if img5_pil:\n",
    "    plot_histogram_roi(img5_pil,\n",
    "                      roi_coords=roi_taza_coords_img5,\n",
    "                      channel=0,  # 0 para Rojo\n",
    "                      title_prefix='Imagen 5 - Taza 1')\n",
    "else:\n",
    "    print(\"Error: No se pudo cargar la Imagen 5\")"
   ]
  },
  {
   "cell_type": "markdown",
   "id": "91b3c23b",
   "metadata": {},
   "source": [
    "## 9. Análisis de Imagen 6\n",
    "\n",
    "Cargaremos y analizaremos la sexta imagen termográfica disponible."
   ]
  },
  {
   "cell_type": "code",
   "execution_count": null,
   "id": "9d3ee73b",
   "metadata": {},
   "outputs": [],
   "source": [
    "# Cargar y mostrar Imagen 6\n",
    "path_imagen6 = DATA / 'Imagen6.jpg'\n",
    "print(\"Mostrando Imagen 6:\")\n",
    "img6_pil = load_and_display_image(path_imagen6, title='Imagen 6')"
   ]
  },
  {
   "cell_type": "markdown",
   "id": "a6be640b",
   "metadata": {},
   "source": [
    "## 10. Análisis Comparativo de Múltiples ROIs\n",
    "\n",
    "Podemos analizar múltiples regiones de interés para comparar temperaturas en diferentes zonas de la imagen."
   ]
  },
  {
   "cell_type": "code",
   "execution_count": null,
   "id": "4dcba2b4",
   "metadata": {},
   "outputs": [],
   "source": [
    "# Ejemplo: Analizar múltiples ROIs de la Imagen 5 (si contiene múltiples tazas)\n",
    "# Definir coordenadas para una segunda taza (ajustar según la imagen)\n",
    "roi_taza2_coords_img5 = (300, 100, 500, 400)  # Ejemplo, ajustar según la imagen\n",
    "\n",
    "if img5_pil:\n",
    "    print(\"=== Análisis de Taza 2 - Canal Verde ===\")\n",
    "    plot_histogram_roi(img5_pil,\n",
    "                      roi_coords=roi_taza2_coords_img5,\n",
    "                      channel=1,  # 1 para Verde\n",
    "                      title_prefix='Imagen 5 - Taza 2')\n",
    "    \n",
    "    print(\"\\n=== Análisis de Taza 2 - Canal Azul ===\")\n",
    "    plot_histogram_roi(img5_pil,\n",
    "                      roi_coords=roi_taza2_coords_img5,\n",
    "                      channel=2,  # 2 para Azul\n",
    "                      title_prefix='Imagen 5 - Taza 2')\n",
    "else:\n",
    "    print(\"Error: No se pudo cargar la Imagen 5\")"
   ]
  },
  {
   "cell_type": "markdown",
   "id": "11fefa14",
   "metadata": {},
   "source": [
    "## 11. Visualización de Todas las Imágenes en un Grid\n",
    "\n",
    "Creemos una visualización comparativa de todas las imágenes disponibles."
   ]
  },
  {
   "cell_type": "code",
   "execution_count": null,
   "id": "23bd7829",
   "metadata": {},
   "outputs": [],
   "source": [
    "# Visualización de todas las imágenes en un grid\n",
    "fig, axes = plt.subplots(2, 3, figsize=(18, 12))\n",
    "axes = axes.flatten()\n",
    "\n",
    "# Lista de imágenes y títulos\n",
    "imagenes = [\n",
    "    (img1_pil, 'Imagen 1: Aeronave'),\n",
    "    (img2_pil, 'Imagen 2'),\n",
    "    (img3_pil, 'Imagen 3'),\n",
    "    (img4_pil, 'Imagen 4'),\n",
    "    (img5_pil, 'Imagen 5: Tazas'),\n",
    "    (img6_pil, 'Imagen 6')\n",
    "]\n",
    "\n",
    "# Mostrar cada imagen\n",
    "for idx, (img, titulo) in enumerate(imagenes):\n",
    "    if img:\n",
    "        axes[idx].imshow(img)\n",
    "        axes[idx].set_title(titulo, fontsize=12, fontweight='bold')\n",
    "        axes[idx].axis('off')\n",
    "    else:\n",
    "        axes[idx].text(0.5, 0.5, 'No disponible', \n",
    "                      ha='center', va='center', fontsize=12)\n",
    "        axes[idx].axis('off')\n",
    "\n",
    "plt.suptitle('Análisis Termográfico - Comparación de Imágenes', \n",
    "            fontsize=16, fontweight='bold', y=0.995)\n",
    "plt.tight_layout()\n",
    "plt.show()"
   ]
  },
  {
   "cell_type": "markdown",
   "id": "4d89c38a",
   "metadata": {},
   "source": [
    "## 12. Conclusiones\n",
    "\n",
    "### Resumen del Análisis Termográfico\n",
    "\n",
    "En esta práctica hemos realizado un análisis completo de imágenes termográficas utilizando Python:\n",
    "\n",
    "**Técnicas Aplicadas:**\n",
    "1. **Carga y visualización** de imágenes termográficas en diferentes formatos (PNG, JPG)\n",
    "2. **Análisis de ROI** (Regiones de Interés) para estudiar áreas específicas\n",
    "3. **Histogramas de distribución** para analizar intensidades de píxeles\n",
    "4. **Análisis multicanal** (RGB y escala de grises) para extraer información térmica\n",
    "\n",
    "**Observaciones Clave:**\n",
    "- Las imágenes termográficas utilizan paletas de colores para representar temperaturas\n",
    "- El canal rojo típicamente representa las zonas más calientes\n",
    "- El canal azul representa las zonas más frías\n",
    "- La escala de grises (luminancia) proporciona un análisis de contraste general\n",
    "\n",
    "**Aplicaciones Prácticas:**\n",
    "- Detección de puntos calientes en maquinaria\n",
    "- Análisis de aislamiento térmico en edificaciones\n",
    "- Medición de temperatura sin contacto\n",
    "- Inspección de componentes electrónicos\n",
    "- Estudios de transferencia de calor\n",
    "\n",
    "### Instrucciones para Uso Personalizado\n",
    "\n",
    "Para adaptar este notebook a tus propias imágenes:\n",
    "\n",
    "1. Modifica la variable `DATA` para apuntar a tu carpeta de imágenes\n",
    "2. Ajusta las coordenadas de los ROIs según tus objetos de interés\n",
    "3. Experimenta con diferentes canales de color según tu paleta térmica\n",
    "4. Utiliza las estadísticas (media, desviación estándar) para análisis cuantitativos"
   ]
  }
 ],
 "metadata": {
  "language_info": {
   "name": "python"
  }
 },
 "nbformat": 4,
 "nbformat_minor": 5
}
