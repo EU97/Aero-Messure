{
 "cells": [
  {
   "cell_type": "markdown",
   "id": "d09bb4dc",
   "metadata": {},
   "source": [
    "# Práctica 3: Anemometría de Hilo Caliente\n",
    "\n",
    "Calibración (ley de King), adquisición, filtrado, estadísticos y espectro."
   ]
  },
  {
   "cell_type": "code",
   "execution_count": null,
   "id": "826411e7",
   "metadata": {},
   "outputs": [],
   "source": [
    "import numpy as np\n",
    "import pandas as pd\n",
    "import matplotlib.pyplot as plt\n",
    "from pathlib import Path\n",
    "from scipy.signal import detrend, welch, butter, filtfilt"
   ]
  },
  {
   "cell_type": "code",
   "execution_count": null,
   "id": "fc9af4a3",
   "metadata": {},
   "outputs": [],
   "source": [
    "DATA_DIR = Path('..') / 'data'\n",
    "calib_path = DATA_DIR / 'calibration.csv'  # E vs Uref\n",
    "signal_path = DATA_DIR / 'signal.csv'      # tiempo, voltaje\n",
    "fs = 5000  # Hz ejemplo\n",
    "print(calib_path, signal_path)"
   ]
  },
  {
   "cell_type": "code",
   "execution_count": null,
   "id": "7f19ec13",
   "metadata": {},
   "outputs": [],
   "source": [
    "# Cargar calibración y ajuste King: E^2 = A + B U^n\n",
    "calib = pd.read_csv(calib_path)\n",
    "E = calib['E'].values; Uref = calib['Uref'].values\n",
    "# Ajuste log: ln(E^2 - A) ~ ln(U) -> requiere suposición inicial de A o ajuste no lineal\n",
    "# Para simplicidad, ajuste polinómico en log-log como aproximación\n",
    "p = np.polyfit(np.log(Uref+1e-9), np.log(E**2+1e-9), 1)\n",
    "n_approx = p[0]; B_approx = np.exp(p[1])\n",
    "print('n≈', n_approx, 'B≈', B_approx)"
   ]
  },
  {
   "cell_type": "code",
   "execution_count": null,
   "id": "c62e64a3",
   "metadata": {},
   "outputs": [],
   "source": [
    "# Señal y filtrado\n",
    "sig = pd.read_csv(signal_path)\n",
    "t = sig['t'].values; e = sig['E'].values\n",
    "b,a = butter(4, 0.3, btype='low')  # normalizado a Nyquist si previamente normalizado\n",
    "e_f = filtfilt(b,a, e)\n",
    "e_d = detrend(e_f)\n",
    "plt.figure(figsize=10,3); plt.plot(t, e, alpha=0.5, label='raw'); plt.plot(t, e_f, label='lowpass'); plt.legend(); plt.title('Señal');"
   ]
  },
  {
   "cell_type": "code",
   "execution_count": null,
   "id": "a1463f82",
   "metadata": {},
   "outputs": [],
   "source": [
    "# Estadísticos y espectro\n",
    "U_proxy = np.sqrt((e_d**2 - 0)/ (B_approx+1e-9))  # proxy simple\n",
    "print('U mean ~', np.nanmean(U_proxy), 'RMS ~', np.nanstd(U_proxy))\n",
    "f, Pxx = welch(e_d, fs=fs, nperseg=2048)\n",
    "plt.figure(); plt.semilogx(f, Pxx); plt.title('PSD'); plt.xlabel('Hz'); plt.ylabel('PSD')"
   ]
  }
 ],
 "metadata": {
  "language_info": {
   "name": "python"
  }
 },
 "nbformat": 4,
 "nbformat_minor": 5
}
