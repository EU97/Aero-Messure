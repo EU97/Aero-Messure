{
 "cells": [
  {
   "cell_type": "markdown",
   "id": "93160675",
   "metadata": {},
   "source": [
    "# P08: Productos de Combustión"
   ]
  },
  {
   "cell_type": "code",
   "execution_count": null,
   "id": "47e29736",
   "metadata": {},
   "outputs": [],
   "source": [
    "import pandas as pd, numpy as np, matplotlib.pyplot as plt\n",
    "from pathlib import Path\n",
    "\n",
    "DATA=Path('..')/'data'\n",
    "gases = pd.read_csv(DATA/'gases.csv')\n",
    "plt.figure();\n",
    "for col in ['CO2','CO','NOx','O2','HC']:\n",
    "    if col in gases.columns: plt.plot(gases['condicion'], gases[col], label=col)\n",
    "plt.legend(); plt.xticks(rotation=45); plt.tight_layout(); plt.title('Emisiones vs condición')"
   ]
  }
 ],
 "metadata": {
  "language_info": {
   "name": "python"
  }
 },
 "nbformat": 4,
 "nbformat_minor": 5
}
