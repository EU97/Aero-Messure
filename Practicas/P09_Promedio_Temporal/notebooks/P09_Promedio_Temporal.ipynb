{
 "cells": [
  {
   "cell_type": "markdown",
   "id": "5b00cce8",
   "metadata": {},
   "source": [
    "# P09: Promedio Temporal"
   ]
  },
  {
   "cell_type": "code",
   "execution_count": null,
   "id": "bdb201de",
   "metadata": {},
   "outputs": [],
   "source": [
    "import pandas as pd, numpy as np, matplotlib.pyplot as plt\n",
    "from pathlib import Path\n",
    "\n",
    "DATA=Path('..')/'data'\n",
    "sig = pd.read_csv(DATA/'signal.csv')\n",
    "N=200\n",
    "sig['mov_mean']=sig['x'].rolling(N, min_periods=1).mean()\n",
    "plt.plot(sig['t'], sig['x'], alpha=0.4); plt.plot(sig['t'], sig['mov_mean']); plt.legend(['raw','mean'])\n",
    "plt.title('Promedio Móvil')"
   ]
  }
 ],
 "metadata": {
  "language_info": {
   "name": "python"
  }
 },
 "nbformat": 4,
 "nbformat_minor": 5
}
